{
 "cells": [
  {
   "cell_type": "markdown",
   "id": "8c6a5d36",
   "metadata": {},
   "source": [
    "# LAB 02 – ARTIFICIAL INTELLIGENCE\n"
   ]
  },
  {
   "cell_type": "markdown",
   "id": "a5779294",
   "metadata": {},
   "source": [
    "## THỰC HÀNH 06: Bài toán 4-Queens"
   ]
  },
  {
   "cell_type": "markdown",
   "id": "8db92fcc",
   "metadata": {},
   "source": [
    "### Mục tiêu:\n",
    "- Hiểu và mô tả bài toán 4-Queens.\n",
    "- Xác định số lượng lời giải hợp lệ.\n"
   ]
  },
  {
   "cell_type": "markdown",
   "id": "23115592",
   "metadata": {},
   "source": [
    "### Mô tả bài toán:\n",
    "Bài toán 4-Queens là phiên bản đơn giản của bài toán N-Queens trong trí tuệ nhân tạo. Mục tiêu là đặt **4 quân hậu (Queens)** lên **bàn cờ 4x4** sao cho **không có 2 quân hậu nào tấn công lẫn nhau**.\n",
    "\n",
    "Các quân hậu có thể tấn công theo:\n",
    "- Cùng hàng (ngang)\n",
    "- Cùng cột (dọc)\n",
    "- Đường chéo\n"
   ]
  },
  {
   "cell_type": "markdown",
   "id": "ab2f5333",
   "metadata": {},
   "source": [
    "### Yêu cầu:\n",
    "- Cài đặt thuật toán để sinh tất cả các cấu hình có thể của 4 quân hậu trên bàn cờ 4x4.\n",
    "- Kiểm tra điều kiện không tấn công lẫn nhau.\n",
    "- In ra các cấu hình thỏa mãn yêu cầu.\n"
   ]
  },
  {
   "cell_type": "markdown",
   "id": "05145415",
   "metadata": {},
   "source": [
    "### Bài tập thực hành:\n",
    "\n"
   ]
  },
  {
   "cell_type": "code",
   "execution_count": 37,
   "id": "08d9b6dd",
   "metadata": {},
   "outputs": [],
   "source": [
    "# Cài dặt thư viên vào\n",
    "import numpy as np"
   ]
  },
  {
   "cell_type": "code",
   "execution_count": null,
   "id": "bbba1526",
   "metadata": {},
   "outputs": [],
   "source": [
    "# Kiểm tra trạng thái hiện tại là giải pháp hợp lệ hay không\n",
    "def is_valid_state(state, num_queens):\n",
    "    #code here\n",
    "    return len(state) == num_queens"
   ]
  },
  {
   "cell_type": "code",
   "execution_count": null,
   "id": "90840fe7",
   "metadata": {},
   "outputs": [],
   "source": [
    "#Hàm lấy các cọt để tiếp tục đặt các quân hậu tiếp theo\n",
    "def get_candidates(state, num_queens):\n",
    "    if not state:\n",
    "        return range(num_queens)\n",
    "    position = len(state)\n",
    "    candidates = set(range(num_queens))\n",
    "\n",
    "    for row, col in enumerate(state):\n",
    "        candidates.discard(col)\n",
    "        dist = position - row\n",
    "        candidates.discard(col + dist)\n",
    "        candidates.discard(col - dist)\n",
    "\n",
    "    return candidates\n"
   ]
  },
  {
   "cell_type": "code",
   "execution_count": null,
   "id": "a433c6f9",
   "metadata": {},
   "outputs": [],
   "source": [
    "# Quay lùi hay gọi là đệ quy tìm kiếm giải pháp khác lúc này chúng ta có thuật toán backtrackinng \n",
    "def search(state, solutions, num_queens):\n",
    "    if is_valid_state(state, num_queens):\n",
    "        solutions.append(state.copy())\n",
    "        print(f\"Valid state Found: {state}\")\n",
    "\n",
    "    for candidate in get_candidates(state, num_queens):\n",
    "        state.append(candidate)\n",
    "        search(state, solutions, num_queens)\n",
    "        print(f\"Backtracking from: {state}\")\n",
    "        state.remove(candidate)"
   ]
  },
  {
   "cell_type": "code",
   "execution_count": null,
   "id": "c1188e24",
   "metadata": {},
   "outputs": [],
   "source": [
    "# Gói toàn bộ quá trình giải trong một hàm\n",
    "def solve(num_queens):\n",
    "    solutions = []\n",
    "    state = []\n",
    "    search(state, solutions, num_queens)\n",
    "    return solutions"
   ]
  },
  {
   "cell_type": "code",
   "execution_count": null,
   "id": "357ddc6c",
   "metadata": {},
   "outputs": [
    {
     "name": "stdout",
     "output_type": "stream",
     "text": [
      "\n",
      " Bàn cờ trống:\n",
      "[['-' '-' '-' '-']\n",
      " ['-' '-' '-' '-']\n",
      " ['-' '-' '-' '-']\n",
      " ['-' '-' '-' '-']]\n",
      "\n",
      " Tổng số lời giải tìm được: 2\n",
      "\n",
      "🔹 Lời giải 1: [1, 3, 0, 2]\n",
      "- Q - -\n",
      "- - - Q\n",
      "Q - - -\n",
      "- - Q -\n",
      "vi tri theo (cot, hang): [(1, 0), (3, 1), (0, 2), (2, 3)]\n",
      "\n",
      "🔹 Lời giải 2: [2, 0, 3, 1]\n",
      "- - Q -\n",
      "Q - - -\n",
      "- - - Q\n",
      "- Q - -\n",
      "vi tri theo (cot, hang): [(2, 0), (0, 1), (3, 2), (1, 3)]\n"
     ]
    }
   ],
   "source": [
    "# Hàm main chạy chương trình\n",
    "if __name__ == \"__main__\":\n",
    "    # nhập số lượng và in bàng cớ trắng\n",
    "    # code here\n",
    "    num_queens = int(input(\"Nhap so luong quan hau: \"))\n",
    "    empty_board = np.full((num_queens, num_queens), \"-\")\n",
    "    print(empty_board)\n",
    "    solutions = solve(num_queens)\n",
    "    print(f\"\\n tong loi giai tim duoc: {len(solutions)}\")\n",
    "    for index, solution in enumerate(solutions, start=1):\n",
    "        board = np.full((num_queens, num_queens), \"-\")\n",
    "        for row, col in enumerate(solution):\n",
    "            board[row][col] = 'Q'\n",
    "        print(f\"\\n Loi giai {index}: {solution}\")\n",
    "        for row in board:\n",
    "            print(\" \".join(row))\n",
    "        # in theo tọa độ nhé \n",
    "        #code here\n",
    "        coords = [(r, c) for r, c in enumerate(solution)]\n",
    "        print(\"Tọa độ quân hậu:\", coords)"
   ]
  },
  {
   "cell_type": "markdown",
   "id": "0ba981b0",
   "metadata": {},
   "source": [
    "## THỰC HÀNH 07: Bài toán 8-Queens"
   ]
  },
  {
   "cell_type": "markdown",
   "id": "99c1c416",
   "metadata": {},
   "source": [
    "### Mục tiêu:\n",
    "- Hiểu và mô tả bài toán 8-Queens.\n",
    "- Tìm và xác định số lượng lời giải hợp lệ.\n"
   ]
  },
  {
   "cell_type": "markdown",
   "id": "fad0f183",
   "metadata": {},
   "source": [
    "### Mô tả bài toán:\n",
    "Tương tự bài toán 4-Queens, nhưng bàn cờ được mở rộng lên **8x8** và cần đặt **8 quân hậu** sao cho **không quân nào tấn công quân khác**.\n"
   ]
  },
  {
   "cell_type": "markdown",
   "id": "d9d8abcf",
   "metadata": {},
   "source": [
    "### Yêu cầu:\n",
    "- Cài đặt thuật toán giải bài toán 8-Queens.\n",
    "- Sử dụng kỹ thuật quay lui (Backtracking)\n",
    "- In ra số lượng lời giải và một số ví dụ minh họa.\n"
   ]
  },
  {
   "cell_type": "markdown",
   "id": "4f9d90a4",
   "metadata": {},
   "source": [
    "### Thực Hành\n",
    "\n"
   ]
  },
  {
   "cell_type": "code",
   "execution_count": 52,
   "id": "494858be",
   "metadata": {},
   "outputs": [],
   "source": [
    "# Cài dặt thư viên vào\n",
    "import numpy as np\n",
    "import random"
   ]
  },
  {
   "cell_type": "code",
   "execution_count": 53,
   "id": "6cddf2a7",
   "metadata": {},
   "outputs": [],
   "source": [
    "# Kiểm tra trạng thái hiện tại là giải pháp hợp lệ hay không\n",
    "def is_valid_state(state, num_queens):\n",
    "    return len(state) == num_queens"
   ]
  },
  {
   "cell_type": "code",
   "execution_count": 54,
   "id": "07c81a1c",
   "metadata": {},
   "outputs": [],
   "source": [
    "#Hàm lấy các cọt để tiếp tục đặt các quân hậu tiếp theo\n",
    "def get_candidates(state, num_queens):\n",
    "    if not state:\n",
    "        return range(num_queens)\n",
    "\n",
    "    position = len(state)\n",
    "    candidates = set(range(num_queens))\n",
    "\n",
    "    for row, col in enumerate(state):\n",
    "        candidates.discard(col)\n",
    "        dist = position - row\n",
    "        candidates.discard(col + dist)\n",
    "        candidates.discard(col - dist)\n",
    "\n",
    "    return candidates\n"
   ]
  },
  {
   "cell_type": "code",
   "execution_count": 55,
   "id": "b49f5bd9",
   "metadata": {},
   "outputs": [],
   "source": [
    "# Quay lùi hay gọi là đệ quy tìm kiếm giải pháp khác lúc này chúng ta có thuật toán backtrackinng \n",
    "def search(state, solutions, num_queens):\n",
    "    if is_valid_state(state, num_queens):\n",
    "        solutions.append(state.copy())\n",
    "        return\n",
    "\n",
    "    for candidate in get_candidates(state, num_queens):\n",
    "        state.append(candidate)\n",
    "        search(state, solutions, num_queens)\n",
    "        state.pop()  "
   ]
  },
  {
   "cell_type": "code",
   "execution_count": 56,
   "id": "c637f40e",
   "metadata": {},
   "outputs": [],
   "source": [
    "# Gói toàn bộ quá trình giải trong một hàm\n",
    "def solve(num_queens):\n",
    "    solutions = []\n",
    "    state = []\n",
    "    search(state, solutions, num_queens)\n",
    "    return solutions"
   ]
  },
  {
   "cell_type": "code",
   "execution_count": null,
   "id": "a41e6174",
   "metadata": {},
   "outputs": [
    {
     "name": "stdout",
     "output_type": "stream",
     "text": [
      "\n",
      " Tổng số lời giải tìm được: 92\n",
      "\n",
      " random 2 loi giai trong 92 loi giai 1: [0, 6, 3, 5, 7, 1, 4, 2]\n",
      "Q - - - - - - -\n",
      "- - - - - - Q -\n",
      "- - - Q - - - -\n",
      "- - - - - Q - -\n",
      "- - - - - - - Q\n",
      "- Q - - - - - -\n",
      "- - - - Q - - -\n",
      "- - Q - - - - -\n",
      "vi tri theo (cot, hang): [(0, 0), (6, 1), (3, 2), (5, 3), (7, 4), (1, 5), (4, 6), (2, 7)]\n",
      "\n",
      " random 2 loi giai trong 92 loi giai 2: [7, 2, 0, 5, 1, 4, 6, 3]\n",
      "- - - - - - - Q\n",
      "- - Q - - - - -\n",
      "Q - - - - - - -\n",
      "- - - - - Q - -\n",
      "- Q - - - - - -\n",
      "- - - - Q - - -\n",
      "- - - - - - Q -\n",
      "- - - Q - - - -\n",
      "vi tri theo (cot, hang): [(7, 0), (2, 1), (0, 2), (5, 3), (1, 4), (4, 5), (6, 6), (3, 7)]\n"
     ]
    }
   ],
   "source": [
    "# Tương  tự viết Hàm main nhé.\n",
    "if __name__ == \"__main__\":\n",
    "    num_queens = int(input(\"Nhap vao so quan hau N = \"))\n",
    "    solutions = solve(num_queens)\n",
    "    \n",
    "    print(f\"\\n Tổng số lời giải tìm được: {len(solutions)}\")\n",
    "\n",
    "    # Lấy ngẫu nhiên 2 lời giải\n",
    "    # code here\n",
    "    random_solutions = random.sample(solutions, 2)\n",
    "    \n",
    "    # in theo tọa độ nhé\n",
    "    for idx, sol in enumerate(random_solutions, start=1):\n",
    "        # In header\n",
    "        print(f\"random 2 loi giai trong {len(solutions)} loi giai {idx}: {sol}\")\n",
    "        \n",
    "        # In bàn cờ\n",
    "        board = np.full((num_queens, num_queens), \"-\")\n",
    "        for row, col in enumerate(sol):\n",
    "            board[row, col] = \"Q\"\n",
    "        for row_arr in board:\n",
    "            print(\" \".join(row_arr))\n",
    "        \n",
    "        # In tọa độ theo (cột, hàng)\n",
    "        coords = [(col, row) for row, col in enumerate(sol)]\n",
    "        print(\"vi tri theo (cot, hang):\", coords)\n",
    "        print()  \n",
    "       "
   ]
  }
 ],
 "metadata": {
  "kernelspec": {
   "display_name": "Python 3",
   "language": "python",
   "name": "python3"
  },
  "language_info": {
   "codemirror_mode": {
    "name": "ipython",
    "version": 3
   },
   "file_extension": ".py",
   "mimetype": "text/x-python",
   "name": "python",
   "nbconvert_exporter": "python",
   "pygments_lexer": "ipython3",
   "version": "3.9.13"
  }
 },
 "nbformat": 4,
 "nbformat_minor": 5
}
