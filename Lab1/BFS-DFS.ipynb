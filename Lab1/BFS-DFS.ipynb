{
  "cells": [
    {
      "cell_type": "markdown",
      "metadata": {},
      "source": [
        "# LAB 1: Thuật Toán Tìm Kiếm Mù - Nhập Môn Trí Tuệ Nhân Tạo\n",
        "\n",
        "- **Thời lượng**: 2,5 giờ\n",
        "- **Mục đích**: Trang bị kiến thức và kỹ năng thực hành về các thuật toán tìm kiếm mù, cụ thể là Tìm kiếm theo Chiều rộng (Breadth-First Search - BFS) và Tìm kiếm theo Chiều sâu (Depth-First Search - DFS), áp dụng trên đồ thị không trọng số và có trọng số.\n",
        "- **Yêu cầu**: Sinh viên cần chuẩn bị máy tính cài đặt Python (phiên bản 3.7 trở lên) và môi trường thực thi Jupyter Notebook hoặc Google Colab.\n",
        "\n",
        "## Mục Tiêu\n",
        "1. Hiểu rõ khái niệm và cơ chế hoạt động của các thuật toán tìm kiếm mù trong trí tuệ nhân tạo.\n",
        "2. Thành thạo triển khai BFS và DFS trên các đồ thị vô hướng, bao gồm đồ thị không trọng số và có trọng số.\n",
        "3. Phân tích hạn chế của BFS và DFS khi áp dụng trên đồ thị có trọng số.\n",
        "4. Thực hiện minh họa thủ công và lập trình với chú thích rõ ràng để kiểm chứng kết quả tìm kiếm.\n",
        "\n",
        "## Cơ Sở Lý Thuyết\n",
        "\n",
        "### 1. Tìm Kiếm Mù\n",
        "Tìm kiếm mù (Uninformed Search) là các thuật toán tìm kiếm không sử dụng thông tin heuristic, duyệt qua không gian trạng thái theo cách có hệ thống, dựa trên cấu trúc bài toán.\n",
        "\n",
        "### 2. Tìm Kiếm theo Chiều Rộng (BFS)\n",
        "- **Nguyên lý**: Khám phá tất cả các nút ở mức hiện tại trước khi chuyển sang mức tiếp theo.\n",
        "- **Cấu trúc dữ liệu**: Hàng đợi (Queue).\n",
        "- **Đặc điểm**:\n",
        "  - Trong đồ thị không trọng số, BFS đảm bảo tìm đường đi ngắn nhất (theo số cạnh).\n",
        "  - Trong đồ thị có trọng số, BFS không đảm bảo đường đi có tổng trọng số nhỏ nhất, vì nó không xem xét trọng số của các cạnh.\n",
        "\n",
        "### 3. Tìm Kiếm theo Chiều Sâu (DFS)\n",
        "- **Nguyên lý**: Khám phá một nhánh đến tận cùng trước khi quay lại thử nhánh khác.\n",
        "- **Cấu trúc dữ liệu**: Ngăn xếp (Stack) hoặc đệ quy.\n",
        "- **Đặc điểm**:\n",
        "  - DFS không đảm bảo đường đi ngắn nhất trong cả đồ thị không trọng số và có trọng số.\n",
        "  - Kết quả phụ thuộc vào thứ tự duyệt các nút kề.\n",
        "\n",
        "### 4. Đồ Thị Không Trọng Số và Có Trọng Số\n",
        "- **Đồ thị không trọng số**: Các cạnh có trọng số ngầm định bằng 1. BFS tối ưu theo số cạnh.\n",
        "- **Đồ thị có trọng số**: Các cạnh có trọng số khác nhau (ví dụ: chi phí, khoảng cách). BFS và DFS không được thiết kế để tối ưu hóa tổng trọng số, dẫn đến kết quả không tối ưu.\n",
        "\n",
        "### 5. Bài Toán \n",
        "Cho các đồ thị vô hướng (không trọng số và có trọng số) biểu diễn mạng lưới hoặc mê cung. Nhiệm vụ là tìm đường đi từ nút bắt đầu (**S**) đến nút đích (**G** hoặc **H**) bằng BFS và DFS, thông qua minh họa thủ công và lập trình với chú thích chi tiết."
      ]
    },
    {
      "cell_type": "markdown",
      "metadata": {},
      "source": [
        "## Hướng Dẫn Thực Hành\n",
        "\n",
        "### Phần 1: Thiết Lập Môi Trường\n",
        "- **Yêu cầu**: Python 3.7+ và Jupyter Notebook hoặc Google Colab.\n",
        "- **Hướng dẫn**:\n",
        "  1. Mở file `.ipynb` này trong Jupyter Notebook hoặc tải lên Google Colab.\n",
        "  2. Chạy các ô mã Python để đảm bảo môi trường hoạt động.\n",
        "\n",
        "### Phần 2: Minh Họa Thủ Công BFS và DFS\n",
        "\n",
        "#### Đồ Thị Mẫu 1: Không Trọng Số\n",
        "##### Mermaid Diagram\n",
        "```mermaid\n",
        "graph TD\n",
        "    S --> A\n",
        "    S --> B\n",
        "    S --> C\n",
        "    A --> D\n",
        "    B --> E\n",
        "    D --> F\n",
        "    E --> G\n",
        "```\n",
        "- **Các cạnh**: S-A, S-B, S-C, A-D, B-E, D-F, E-G.\n",
        "- **Mục tiêu**: Tìm đường từ S đến G.\n",
        "\n",
        "**Minh họa BFS**:\n",
        "1. Khởi tạo: Hàng đợi = [(S, [S])], Đã thăm = {S}\n",
        "2. Lấy S, thêm A, B, C: Hàng đợi = [(A, [S, A]), (B, [S, B]), (C, [S, C])], Đã thăm = {S, A, B, C}\n",
        "3. Lấy A, thêm D: Hàng đợi = [(B, [S, B]), (C, [S, C]), (D, [S, A, D])], Đã thăm = {S, A, B, C, D}\n",
        "4. Lấy B, thêm E: Hàng đợi = [(C, [S, C]), (D, [S, A, D]), (E, [S, B, E])], Đã thăm = {S, A, B, C, D, E}\n",
        "5. Lấy C, không có kề mới: Hàng đợi = [(D, [S, A, D]), (E, [S, B, E])]\n",
        "6. Lấy D, thêm F: Hàng đợi = [(E, [S, B, E]), (F, [S, A, D, F])], Đã thăm = {S, A, B, C, D, E, F}\n",
        "7. Lấy E, thêm G: G là đích, trả về [S, B, E, G]\n",
        "\n",
        "**Kết quả**: Đường đi BFS: S → B → E → G (độ dài 3, ngắn nhất).\n",
        "\n",
        "**Minh họa DFS** :\n",
        "1. Khởi tạo: Ngăn xếp = [(S, [S])], Đã thăm = {S}\n",
        "2. Lấy S, thêm A: Ngăn xếp = [(A, [S, A])], Đã thăm = {S, A}\n",
        "3. Lấy A, thêm D: Ngăn xếp = [(D, [S, A, D])], Đã thăm = {S, A, D}\n",
        "4. Lấy D, thêm F: Ngăn xếp = [(F, [S, A, D, F])], Đã thăm = {S, A, D, F}\n",
        "5. Lấy F, không có kề mới: Ngăn xếp rỗng, quay lại S.\n",
        "6. Từ S, thêm B: Ngăn xếp = [(B, [S, B])], Đã thăm = {S, A, D, F, B}\n",
        "7. Lấy B, thêm E: Ngăn xếp = [(E, [S, B, E])], Đã thăm = {S, A, D, F, B, E}\n",
        "8. Lấy E, thêm G: G là đích, trả về [S, B, E, G]\n",
        "\n",
        "**Kết quả**: Đường đi DFS: S → B → E → G."
      ]
    },
    {
      "cell_type": "markdown",
      "metadata": {},
      "source": [
        "#### Đồ Thị Mẫu 5: Có Trọng Số\n",
        "##### Mermaid Diagram\n",
        "```mermaid\n",
        "graph TD\n",
        "    S -->|1| A\n",
        "    S -->|2| B\n",
        "    S -->|3| C\n",
        "    A -->|4| D\n",
        "    B -->|5| G\n",
        "    D -->|6| G\n",
        "    A -->|3| G\n",
        "```\n",
        "- **Các cạnh và trọng số**: S-A: 1, S-B: 2, S-C: 3, A-D: 4, B-G: 5, D-G: 6, A-G: 3.\n",
        "- **Mục tiêu**: Tìm đường từ S đến G.\n",
        "\n",
        "**Minh họa BFS**:\n",
        "1. Khởi tạo: Hàng đợi = [(S, [S], 0)], Đã thăm = {S}\n",
        "2. Lấy S, thêm A, B, C: Hàng đợi = [(A, [S, A], 1), (B, [S, B], 2), (C, [S, C], 3)], Đã thăm = {S, A, B, C}\n",
        "3. Lấy A, thêm D, G: Hàng đợi = [(B, [S, B], 2), (C, [S, C], 3), (D, [S, A, D], 5), (G, [S, A, G], 4)], Đã thăm = {S, A, B, C, D, G}\n",
        "4. Lấy B, thêm G (đã thăm): Hàng đợi = [(C, [S, C], 3), (D, [S, A, D], 5), (G, [S, A, G], 4)]\n",
        "5. Lấy G: G là đích, trả về [S, A, G], trọng số: 4\n",
        "\n",
        "**Kết quả**: Đường đi BFS: S → A → G (trọng số: 4). **Lưu ý**: BFS không đảm bảo tổng trọng số nhỏ nhất.\n",
        "\n",
        "**Minh họa DFS**:\n",
        "1. Khởi tạo: Ngăn xếp = [(S, [S], 0)], Đã thăm = {S}\n",
        "2. Lấy S, thêm A: Ngăn xếp = [(A, [S, A], 1)], Đã thăm = {S, A}\n",
        "3. Lấy A, thêm D, G: Ngăn xếp = [(D, [S, A, D], 5), (G, [S, A, G], 4)], Đã thăm = {S, A, D, G}\n",
        "4. Lấy G: G là đích, trả về [S, A, G], trọng số: 4\n",
        "\n",
        "**Kết quả**: Đường đi DFS: S → A → G (trọng số: 4). **Lưu ý**: DFS không đảm bảo tổng trọng số nhỏ nhất."
      ]
    },
    {
      "cell_type": "markdown",
      "metadata": {},
      "source": [
        "### Phần 3: Triển Khai Mã Python\n",
        "\n",
        "#### BFS trên Đồ Thị Không Trọng Số\n",
        "Chạy ô mã dưới đây để kiểm chứng BFS trên **Đồ thị mẫu 1**."
      ]
    },
    {
      "cell_type": "code",
      "execution_count": 7,
      "metadata": {},
      "outputs": [
        {
          "name": "stdout",
          "output_type": "stream",
          "text": [
            "Đường đi BFS trên Đồ thị mẫu 1: ['S', 'B', 'E', 'G']\n"
          ]
        }
      ],
      "source": [
        "from collections import deque\n",
        "\n",
        "def bfs(graph, start, goal):\n",
        "    # Khởi tạo hàng đợi với nút bắt đầu và đường đi ban đầu\n",
        "    queue = deque([(start, [start])])\n",
        "    # Khởi tạo tập hợp các nút đã thăm để tránh lặp\n",
        "    visited = set([start])\n",
        "    \n",
        "    # Lặp cho đến khi hàng đợi rỗng\n",
        "    while queue:\n",
        "        # Lấy nút đầu tiên và đường đi tương ứng từ hàng đợi\n",
        "        (node, path) = queue.popleft()\n",
        "        # Kiểm tra nếu nút hiện tại là đích\n",
        "        if node == goal:\n",
        "            return path\n",
        "        # Duyệt qua các nút kề của nút hiện tại\n",
        "        for neighbor in graph[node]:\n",
        "            # Nếu nút kề chưa được thăm\n",
        "            if neighbor not in visited:\n",
        "                # Thêm nút kề vào tập đã thăm\n",
        "                visited.add(neighbor)\n",
        "                # Thêm nút kề và đường đi mới vào hàng đợi\n",
        "                queue.append((neighbor, path + [neighbor]))\n",
        "    # Trả về None nếu không tìm thấy đường đi\n",
        "    return None\n",
        "\n",
        "# Định nghĩa Đồ thị mẫu 1 (không trọng số)\n",
        "graph1 = {\n",
        "    'S': ['A', 'B', 'C'],\n",
        "    'A': ['S', 'D'],\n",
        "    'B': ['S', 'E'],\n",
        "    'C': ['S'],\n",
        "    'D': ['A', 'F'],\n",
        "    'E': ['B', 'G'],\n",
        "    'F': ['D'],\n",
        "    'G': ['E']\n",
        "}\n",
        "\n",
        "# Chạy BFS và in kết quả\n",
        "path = bfs(graph1, 'S', 'G')\n",
        "print(\"Đường đi BFS trên Đồ thị mẫu 1:\", path)"
      ]
    },
    {
      "cell_type": "markdown",
      "metadata": {},
      "source": [
        "#### DFS trên Đồ Thị Không Trọng Số\n",
        "Chạy ô mã dưới đây để kiểm chứng DFS trên **Đồ thị mẫu 1**."
      ]
    },
    {
      "cell_type": "code",
      "execution_count": 8,
      "metadata": {},
      "outputs": [
        {
          "name": "stdout",
          "output_type": "stream",
          "text": [
            "Đường đi DFS trên Đồ thị mẫu 1: ['S', 'B', 'E', 'G']\n"
          ]
        }
      ],
      "source": [
        "def dfs(graph, start, goal, visited=None, path=None):\n",
        "    # Khởi tạo tập đã thăm và đường đi nếu chưa có\n",
        "    if visited is None:\n",
        "        visited = set()\n",
        "    if path is None:\n",
        "        path = [start]\n",
        "    \n",
        "    # Thêm nút hiện tại vào tập đã thăm\n",
        "    visited.add(start)\n",
        "    # Kiểm tra nếu nút hiện tại là đích\n",
        "    if start == goal:\n",
        "        return path\n",
        "    \n",
        "    # Duyệt qua các nút kề của nút hiện tại\n",
        "    for neighbor in graph[start]:\n",
        "        # Nếu nút kề chưa được thăm\n",
        "        if neighbor not in visited:\n",
        "            # Gọi đệ quy DFS trên nút kề với đường đi mới\n",
        "            new_path = dfs(graph, neighbor, goal, visited, path + [neighbor])\n",
        "            # Nếu tìm thấy đường đi, trả về\n",
        "            if new_path:\n",
        "                return new_path\n",
        "    # Trả về None nếu không tìm thấy đường đi\n",
        "    return None\n",
        "\n",
        "# Định nghĩa Đồ thị mẫu 1 (không trọng số)\n",
        "graph1 = {\n",
        "    'S': ['A', 'B', 'C'],\n",
        "    'A': ['S', 'D'],\n",
        "    'B': ['S', 'E'],\n",
        "    'C': ['S'],\n",
        "    'D': ['A', 'F'],\n",
        "    'E': ['B', 'G'],\n",
        "    'F': ['D'],\n",
        "    'G': ['E']\n",
        "}\n",
        "\n",
        "# Chạy DFS và in kết quả\n",
        "path = dfs(graph1, 'S', 'G')\n",
        "print(\"Đường đi DFS trên Đồ thị mẫu 1:\", path)"
      ]
    },
    {
      "cell_type": "markdown",
      "metadata": {},
      "source": [
        "#### BFS trên Đồ Thị Có Trọng Số\n",
        "Chạy ô mã dưới đây để kiểm chứng BFS trên **Đồ thị mẫu 5**."
      ]
    },
    {
      "cell_type": "code",
      "execution_count": 9,
      "metadata": {},
      "outputs": [
        {
          "name": "stdout",
          "output_type": "stream",
          "text": [
            "Đường đi BFS trên Đồ thị mẫu 5: ['S', 'A', 'G'] Tổng trọng số: 4\n"
          ]
        }
      ],
      "source": [
        "from collections import deque\n",
        "\n",
        "def bfs_weighted(graph, start, goal):\n",
        "    # Khởi tạo hàng đợi với nút bắt đầu, đường đi, và tổng trọng số\n",
        "    queue = deque([(start, [start], 0)])\n",
        "    # Khởi tạo tập hợp các nút đã thăm\n",
        "    visited = set([start])\n",
        "    \n",
        "    # Lặp cho đến khi hàng đợi rỗng\n",
        "    while queue:\n",
        "        # Lấy nút, đường đi, và tổng trọng số từ đầu hàng đợi\n",
        "        (node, path, total_weight) = queue.popleft()\n",
        "        # Kiểm tra nếu nút hiện tại là đích\n",
        "        if node == goal:\n",
        "            return path, total_weight\n",
        "        # Duyệt qua các nút kề và trọng số tương ứng\n",
        "        for neighbor, weight in graph[node]:\n",
        "            # Nếu nút kề chưa được thăm\n",
        "            if neighbor not in visited:\n",
        "                # Thêm nút kề vào tập đã thăm\n",
        "                visited.add(neighbor)\n",
        "                # Thêm nút kề, đường đi mới, và tổng trọng số cập nhật vào hàng đợi\n",
        "                queue.append((neighbor, path + [neighbor], total_weight + weight))\n",
        "    # Trả về None và 0 nếu không tìm thấy đường đi\n",
        "    return None, 0\n",
        "\n",
        "# Định nghĩa Đồ thị mẫu 5 (có trọng số)\n",
        "graph5 = {\n",
        "    'S': [('A', 1), ('B', 2), ('C', 3)],\n",
        "    'A': [('S', 1), ('D', 4), ('G', 3)],\n",
        "    'B': [('S', 2), ('G', 5)],\n",
        "    'C': [('S', 3)],\n",
        "    'D': [('A', 4), ('G', 6)],\n",
        "    'G': [('B', 5), ('D', 6), ('A', 3)]\n",
        "}\n",
        "\n",
        "# Chạy BFS và in kết quả\n",
        "path, weight = bfs_weighted(graph5, 'S', 'G')\n",
        "print(\"Đường đi BFS trên Đồ thị mẫu 5:\", path, \"Tổng trọng số:\", weight)"
      ]
    },
    {
      "cell_type": "markdown",
      "metadata": {},
      "source": [
        "#### DFS trên Đồ Thị Có Trọng Số\n",
        "Chạy ô mã dưới đây để kiểm chứng DFS trên **Đồ thị mẫu 5**."
      ]
    },
    {
      "cell_type": "code",
      "execution_count": 10,
      "metadata": {},
      "outputs": [
        {
          "name": "stdout",
          "output_type": "stream",
          "text": [
            "Đường đi DFS trên Đồ thị mẫu 5: ['S', 'A', 'D', 'G'] Tổng trọng số: 11\n"
          ]
        }
      ],
      "source": [
        "def dfs_weighted(graph, start, goal, visited=None, path=None, total_weight=0):\n",
        "    # Khởi tạo tập đã thăm và đường đi nếu chưa có\n",
        "    if visited is None:\n",
        "        visited = set()\n",
        "    if path is None:\n",
        "        path = [start]\n",
        "    \n",
        "    # Thêm nút hiện tại vào tập đã thăm\n",
        "    visited.add(start)\n",
        "    # Kiểm tra nếu nút hiện tại là đích\n",
        "    if start == goal:\n",
        "        return path, total_weight\n",
        "    \n",
        "    # Duyệt qua các nút kề và trọng số tương ứng\n",
        "    for neighbor, weight in graph[start]:\n",
        "        # Nếu nút kề chưa được thăm\n",
        "        if neighbor not in visited:\n",
        "            # Gọi đệ quy DFS trên nút kề với đường đi và tổng trọng số mới\n",
        "            new_path, new_weight = dfs_weighted(graph, neighbor, goal, visited, path + [neighbor], total_weight + weight)\n",
        "            # Nếu tìm thấy đường đi, trả về\n",
        "            if new_path:\n",
        "                return new_path, new_weight\n",
        "    # Trả về None và 0 nếu không tìm thấy đường đi\n",
        "    return None, 0\n",
        "\n",
        "# Định nghĩa Đồ thị mẫu 5 (có trọng số)\n",
        "graph5 = {\n",
        "    'S': [('A', 1), ('B', 2), ('C', 3)],\n",
        "    'A': [('S', 1), ('D', 4), ('G', 3)],\n",
        "    'B': [('S', 2), ('G', 5)],\n",
        "    'C': [('S', 3)],\n",
        "    'D': [('A', 4), ('G', 6)],\n",
        "    'G': [('B', 5), ('D', 6), ('A', 3)]\n",
        "}\n",
        "\n",
        "# Chạy DFS và in kết quả\n",
        "path, weight = dfs_weighted(graph5, 'S', 'G')\n",
        "print(\"Đường đi DFS trên Đồ thị mẫu 5:\", path, \"Tổng trọng số:\", weight)"
      ]
    },
    {
      "cell_type": "markdown",
      "metadata": {},
      "source": [
        "## Bài Tập Thực Hành Trong Lớp\n",
        "\n",
        "### Đồ Thị Mẫu Khác\n",
        "\n",
        "#### Đồ Thị Mẫu 2: Có Chu Trình, Không Trọng Số\n",
        "##### Mermaid Diagram\n",
        "```mermaid\n",
        "graph TD\n",
        "    S --> A\n",
        "    S --> B\n",
        "    A --> B\n",
        "    A --> C\n",
        "    B --> D\n",
        "    C --> D\n",
        "    D --> G\n",
        "```\n",
        "- **Các cạnh**: S-A, S-B, A-B, A-C, B-D, C-D, D-G.\n",
        "\n",
        "#### Đồ Thị Mẫu 3: Không Có Đường Đi Tới Đích, Không Trọng Số\n",
        "##### Mermaid Diagram\n",
        "```mermaid\n",
        "graph TD\n",
        "    S --> A\n",
        "    S --> B\n",
        "    A --> C\n",
        "    B --> D\n",
        "```\n",
        "- **Các cạnh**: S-A, S-B, A-C, B-D.\n",
        "\n",
        "#### Đồ Thị Mẫu 4: Dạng Lưới, Không Trọng Số\n",
        "##### Mermaid Diagram\n",
        "```mermaid\n",
        "graph TD\n",
        "    S --> A\n",
        "    S --> C\n",
        "    A --> B\n",
        "    A --> D\n",
        "    B --> E\n",
        "    C --> D\n",
        "    C --> F\n",
        "    D --> E\n",
        "    E --> G\n",
        "    F --> G\n",
        "```\n",
        "\n",
        "- **Các cạnh**: S-A, S-C, A-B, A-D, B-E, C-D, C-F, D-E, E-G, F-G.\n",
        "\n",
        "### Câu Hỏi Lý Thuyết\n",
        "1. Giải thích tại sao BFS đảm bảo đường đi ngắn nhất trên đồ thị không trọng số nhưng không đảm bảo trên đồ thị có trọng số. Sử dụng **Đồ thị mẫu 5** để minh họa.\n",
        "2. Trong **Đồ thị mẫu 2** (có chu trình), làm thế nào để BFS và DFS tránh lặp vô hạn?\n",
        "\n",
        "### Bài Tập Minh Họa Thủ Công\n",
        "1. Thực hiện BFS và DFS thủ công trên **Đồ thị mẫu 2**. Ghi lại trạng thái hàng đợi/ngăn xếp và tập đã thăm ở mỗi bước.\n",
        "2. Với **Đồ thị mẫu 3**, chạy BFS và DFS thủ công. Ghi lại kết quả khi không tìm thấy G.\n",
        "\n",
        "### Bài Tập Lập Trình\n",
        "1. Sử dụng BFS và DFS trên **Đồ thị mẫu 2** . Thêm chú thích chi tiết vào mã của bạn.\n",
        "2. Sửa mã BFS để đếm số nút đã thăm trên **Đồ thị mẫu 4**. In ra kết quả và đảm bảo mã có chú thích đầy đủ."
      ]
    },
    {
      "cell_type": "code",
      "execution_count": null,
      "metadata": {},
      "outputs": [
        {
          "data": {
            "text/plain": [
              "'\\nCơ chế “duyệt theo tầng”\\n\\n'"
            ]
          },
          "execution_count": 1,
          "metadata": {},
          "output_type": "execute_result"
        }
      ],
      "source": [
        "# Trả lời câu hỏi lý thuyết ở đây:\n",
        "\n",
        "# 1. Giải thích tại sao BFS đảm bảo đường đi ngắn nhất trên đồ thị không trọng số nhưng không đảm bảo trên đồ thị có trọng số. Sử dụng **Đồ thị mẫu 5** để minh họa.\n",
        "\"\"\"\n",
        "Cơ chế “duyệt theo tầng”\n",
        "BFS mở rộng lần lượt tất cả các đỉnh cách nguồn 1 cạnh, rồi 2 cạnh, v.v.; \n",
        "vì mỗi cạnh ngầm có chi phí = 1 trên đồ thị không trọng số, số cạnh chính là tổng chi phí \n",
        "→ đường gặp đích đầu tiên chắc chắn ngắn nhất.\n",
        "\n",
        "Khi có trọng số, thứ tự “ít cạnh” ≠ “ít chi phí”\n",
        "Nếu một đường có 2 cạnh nặng và đường khác 3 cạnh nhẹ, BFS vẫn ưu tiên đường 2 cạnh dù chi phí cao hơn.\n",
        "\n",
        "Minh họa với Đồ thị mẫu 5\n",
        "Trong đồ thị: S-A (1), A-G (3) và S-B (2), B-G (5). \n",
        "BFS trả về S → A → G (2 cạnh) tổng 4 — đúng là tối ưu. \n",
        "Nhưng chỉ cần tăng S-A lên 6, BFS vẫn chọn S → A → G (9) thay vì S → B → G (7), chứng tỏ BFS không tối ưu theo trọng số. \n",
        "Muốn tối ưu phải thay hàng đợi bằng priority queue (UCS/Dijkstra)\n",
        "\"\"\"\n",
        "\n",
        "# 2. Trong **Đồ thị mẫu 2** (có chu trình), làm thế nào để BFS và DFS tránh lặp vô hạn?\n",
        "\"\"\"\n",
        "Tập visited (đã thăm) là chìa khóa: đánh dấu ngay khi đỉnh chuẩn bị được khám phá.\n",
        "BFS: đánh dấu khi vừa đưa đỉnh kề vào hàng đợi → bảo đảm mỗi đỉnh xuất hiện tối đa một lần.\n",
        "DFS: đánh dấu ngay khi bắt đầu thăm trong ngăn xếp/đệ quy → không cho quay lại tổ tiên đã thăm.\n",
        "Nhờ vậy, dù đồ thị có vòng A ↔ B, cả hai thuật toán vẫn lần lượt thăm mỗi đỉnh đúng một lần rồi dừng, không rơi vào vòng lặp.\n",
        "\"\"\""
      ]
    },
    {
      "cell_type": "code",
      "execution_count": null,
      "metadata": {},
      "outputs": [],
      "source": [
        "# Minh hoạt thủ công ở đây: \n",
        "# 1. Thực hiện BFS và DFS thủ công trên **Đồ thị mẫu 2**. Ghi lại trạng thái hàng đợi/ngăn xếp và tập đã thăm ở mỗi bước.\n",
        "\"\"\"\n",
        "Đồ thị mẫu 2\n",
        "Các cạnh: S-A, S-B, A-B, A-C, B-D, C-D, D-G\n",
        "Minh họa BFS\n",
        "1. Khởi tạo: Hàng đợi = [(S,[S])]; Đã thăm = {S}\n",
        "2. Lấy S, thêm A, B → Hàng đợi = [(A,[S,A]), (B,[S,B])]; Đã thăm = {S,A,B}\n",
        "3. Lấy A, thêm C → Hàng đợi = [(B,[S,B]), (C,[S,A,C])]; Đã thăm = {S,A,B,C}\n",
        "4. Lấy B, thêm D → Hàng đợi = [(C,[S,A,C]), (D,[S,B,D])]; Đã thăm = {S,A,B,C,D}\n",
        "5. Lấy C, (không thêm mới) → Hàng đợi = [(D,[S,B,D])]\n",
        "6. Lấy D, thêm G → Hàng đợi = [(G,[S,B,D,G])]; Đã thăm = {S,A,B,C,D,G}\n",
        "7. Lấy G → G là đích, trả về [S, B, D, G] (độ dài 3)\n",
        "Kết quả BFS: S → B → D → G (ngắn nhất; dài 3).\n",
        "\n",
        "Minh họa DFS\n",
        "1. Khởi tạo: Ngăn xếp = [(S,[S])]; Đã thăm = {S}\n",
        "2. Lấy S, thêm B, A → Ngăn xếp = [(B,[S,B]), (A,[S,A])]; Đã thăm = {S,B,A}\n",
        "3. Lấy A, thêm C, B (B đã thăm) → Ngăn xếp = [(B,[S,B]), (C,[S,A,C])]; Đã thăm = {S,B,A,C}\n",
        "4. Lấy C, thêm D → Ngăn xếp = [(B,[S,B]), (D,[S,A,C,D])]; Đã thăm = {S,B,A,C,D}\n",
        "5. Lấy D, thêm G → Ngăn xếp = [(B,[S,B]), (G,[S,A,C,D,G])]; Đã thăm = {S,B,A,C,D,G}\n",
        "6. Lấy G → G là đích, trả về [S, A, C, D, G] (độ dài 4)\n",
        "Kết quả DFS: S → A → C → D → G (không bảo đảm ngắn nhất).\n",
        "\n",
        "\"\"\"\n",
        "# 2. Với **Đồ thị mẫu 3**, chạy BFS và DFS thủ công. Ghi lại kết quả khi không tìm thấy G.\n",
        "\"\"\"\n",
        "Đồ thị mẫu 3\n",
        "Các cạnh: S-A, S-B, A-C, B-D\n",
        "Minh họa BFS\n",
        "1.Khởi tạo: Hàng đợi = [(S,[S])]; Đã thăm = {S}\n",
        "2.Lấy S, thêm A, B → Hàng đợi = [(A,[S,A]), (B,[S,B])]; Đã thăm = {S,A,B}\n",
        "3.Lấy A, thêm C → Hàng đợi = [(B,[S,B]), (C,[S,A,C])]; Đã thăm = {S,A,B,C}\n",
        "4.Lấy B, thêm D → Hàng đợi = [(C,[S,A,C]), (D,[S,B,D])]; Đã thăm = {S,A,B,C,D}\n",
        "5.Lấy C (ko mới) → Hàng đợi = [(D,[S,B,D])]\n",
        "6.Lấy D (ko mới) → Hàng đợi = []\n",
        "Hàng đợi rỗng, không tìm thấy G \n",
        "Kết quả BFS: kết thúc mà không gặp G vì đích không nối tới nguồn.\n",
        "\n",
        "Minh họa DFS\n",
        "1.Khởi tạo: Ngăn xếp = [(S,[S])]; Đã thăm = {S}\n",
        "2.Lấy S, thêm B, A → Ngăn xếp = [(B,[S,B]), (A,[S,A])]; Đã thăm = {S,B,A}\n",
        "3.Lấy A, thêm C → Ngăn xếp = [(B,[S,B]), (C,[S,A,C])]; Đã thăm = {S,B,A,C}\n",
        "4.Lấy C (ko mới) → Ngăn xếp = [(B,[S,B])]\n",
        "5.Lấy B, thêm D → Ngăn xếp = [(D,[S,B,D])]; Đã thăm = {S,B,A,C,D}\n",
        "6.Lấy D (ko mới) → Ngăn xếp = []\n",
        "Ngăn xếp rỗng, không tìm thấy G \n",
        "Kết quả DFS: kết thúc mà không gặp G vì đích không nối tới nguồn.\n",
        "\"\"\""
      ]
    },
    {
      "cell_type": "markdown",
      "metadata": {},
      "source": []
    },
    {
      "cell_type": "markdown",
      "metadata": {},
      "source": [
        "## Bài Tập lập trình"
      ]
    },
    {
      "cell_type": "markdown",
      "metadata": {},
      "source": [
        "#### Bài Tập Lập Trình: BFS trên Đồ Thị Mẫu 2\n",
        "Chạy BFS trên **Đồ thị mẫu 2** với chú thích chi tiết."
      ]
    },
    {
      "cell_type": "code",
      "execution_count": null,
      "metadata": {},
      "outputs": [
        {
          "name": "stdout",
          "output_type": "stream",
          "text": [
            "Đường đi BFS trên Đồ thị mẫu 2: ['S', 'B', 'D', 'G']\n"
          ]
        }
      ],
      "source": [
        "# code here"
      ]
    },
    {
      "cell_type": "markdown",
      "metadata": {},
      "source": [
        "#### Bài Tập Lập Trình: DFS trên Đồ Thị Mẫu 2\n",
        "Chạy DFS trên **Đồ thị mẫu 2** với chú thích chi tiết."
      ]
    },
    {
      "cell_type": "code",
      "execution_count": null,
      "metadata": {},
      "outputs": [
        {
          "name": "stdout",
          "output_type": "stream",
          "text": [
            "Đường đi DFS trên Đồ thị mẫu 2: ['S', 'A', 'B', 'D', 'G']\n"
          ]
        }
      ],
      "source": [
        "# code here"
      ]
    },
    {
      "cell_type": "markdown",
      "metadata": {},
      "source": [
        "### Sửa mã BFS để đếm số nút đã thăm trên **Đồ thị mẫu 4**. In ra kết quả và đảm bảo mã có chú thích đầy đủ."
      ]
    },
    {
      "cell_type": "code",
      "execution_count": null,
      "metadata": {},
      "outputs": [],
      "source": [
        "# code here"
      ]
    },
    {
      "cell_type": "code",
      "execution_count": null,
      "metadata": {},
      "outputs": [],
      "source": [
        "# code here"
      ]
    },
    {
      "cell_type": "code",
      "execution_count": null,
      "metadata": {},
      "outputs": [],
      "source": [
        "# code here"
      ]
    },
    {
      "cell_type": "markdown",
      "metadata": {},
      "source": [
        "## Bài Tập Về Nhà\n",
        "- **Thời hạn nộp**: 7 ngày kể từ ngày thực hành (tính đến 23:59 ngày 6/6/2025).\n",
        "- **Yêu cầu**:\n",
        "  - Hoàn thành các bài tập dưới đây.\n",
        "  - Nộp file Jupyter Notebook (.ipynb) đã hoàn thành và báo cáo (.docx hoặc .pdf).\n",
        "  - Báo cáo cần bao gồm:\n",
        "    - Minh họa thủ công cho ít nhất một đồ thị (Đồ thị mẫu 6 hoặc 7).\n",
        "    - Kết quả chạy mã Python với chú thích đầy đủ.\n",
        "    - Trả lời các câu hỏi lý thuyết và phân tích hạn chế của BFS/DFS.\n",
        "\n",
        "### Đồ Thị Mẫu Phức Tạp\n",
        "\n",
        "#### Đồ Thị Mẫu 6: Có Trọng Số, Nhiều Đường Đi\n",
        "##### Mermaid Diagram\n",
        "```mermaid\n",
        "graph TD\n",
        "    S -->|2| A\n",
        "    S -->|5| C\n",
        "    A -->|3| B\n",
        "    A -->|4| D\n",
        "    B -->|6| E\n",
        "    C -->|7| D\n",
        "    C -->|9| F\n",
        "    D -->|8| E\n",
        "    E -->|10| H\n",
        "    F -->|12| G\n",
        "    G -->|15| H\n",
        "```\n",
        "- **Các cạnh và trọng số**:\n",
        "  - S-A: 2, S-C: 5, A-B: 3, A-D: 4, B-E: 6, C-D: 7, C-F: 9, D-E: 8, E-H: 10, F-G: 12, G-H: 15.\n",
        "- **Đặc điểm**: Nhiều đường đi từ S đến H, có chu trình (A-D-E-B-A).\n",
        "\n",
        "#### Đồ Thị Mẫu 7: Không Trọng Số, Mật Độ Cao\n",
        "##### Mermaid Diagram\n",
        "```mermaid\n",
        "graph TD\n",
        "    S --> A\n",
        "    S --> D\n",
        "    S --> E\n",
        "    A --> B\n",
        "    A --> D\n",
        "    A --> E\n",
        "    B --> C\n",
        "    B --> E\n",
        "    B --> F\n",
        "    C --> F\n",
        "    C --> G\n",
        "    D --> E\n",
        "    E --> F\n",
        "    E --> H\n",
        "    F --> G\n",
        "    F --> H\n",
        "    G --> H\n",
        "\n",
        "```\n",
        "- **Các cạnh**: S-A, S-D, S-E, A-B, A-D, A-E, B-C, B-E, B-F, C-F, C-G, D-E, E-F, E-H, F-G, F-H, G-H.\n",
        "- **Đặc điểm**: Mật độ cạnh cao, nhiều chu trình, nhiều đường đi từ S đến H.\n",
        "\n",
        "### Câu Hỏi Lý Thuyết\n",
        "1. Phân tích tại sao BFS và DFS không đảm bảo đường đi có tổng trọng số nhỏ nhất trên **Đồ thị mẫu 6**. Đưa ra một ví dụ cụ thể về đường đi không tối ưu.\n",
        "2. Trong **Đồ thị mẫu 7**, tại sao BFS có thể tìm nhiều đường đi có độ dài bằng nhau từ S đến H? DFS có khả năng này không? Giải thích.\n",
        "\n",
        "### Bài Tập Minh Họa Thủ Công\n",
        "1. Thực hiện BFS và DFS thủ công trên **Đồ thị mẫu 6** để tìm đường từ S đến H. Ghi lại trạng thái hàng đợi/ngăn xếp, tập đã thăm, và tổng trọng số.\n",
        "2. Thực hiện BFS và DFS thủ công trên **Đồ thị mẫu 7**. Ghi lại tất cả các đường đi từ S đến H mà BFS tìm được.\n",
        "\n",
        "### Bài Tập Lập Trình\n",
        "1. Viết mã Python để chạy BFS và DFS trên **Đồ thị mẫu 6** và **Đồ thị mẫu 7**. Định nghĩa đồ thị dưới dạng từ điển và thêm chú thích chi tiết.\n",
        "2. Sửa mã BFS để lưu và in tất cả các đường đi từ S đến H trên **Đồ thị mẫu 7** (không trọng số). Đảm bảo mã có chú thích đầy đủ.\n",
        "3. Thêm một cạnh mới vào **Đồ thị mẫu 6** (ví dụ: B-H với trọng số 20). Chạy lại BFS và DFS, phân tích sự thay đổi trong đường đi và tổng trọng số.\n",
        "\n",
        "### Bài Tập Nâng Cao\n",
        "1. Đo thời gian chạy của BFS và DFS trên **Đồ thị mẫu 6** và **Đồ thị mẫu 7** bằng thư viện `time`. So sánh hiệu suất và thêm chú thích vào mã.\n",
        "2. Thiết kế một đồ thị có trọng số với ít nhất 10 nút và 15 cạnh. Chạy BFS và DFS, phân tích đường đi và tổng trọng số. Đảm bảo mã có chú thích chi tiết."
      ]
    },
    {
      "cell_type": "code",
      "execution_count": null,
      "metadata": {},
      "outputs": [],
      "source": [
        "### Câu Hỏi Lý Thuyết\n",
        "\"\"\"\n",
        "1. Phân tích tại sao BFS và DFS không đảm bảo đường đi có tổng trọng số nhỏ nhất trên **Đồ thị mẫu 6**. Đưa ra một ví dụ cụ thể về đường đi không tối ưu.\n",
        "\n",
        "BFS mở rộng theo độ sâu; điều này đồng nghĩa với “chi phí = số cạnh” chỉ khi tất cả cạnh có trọng số 1.\n",
        "Khi trọng số khác nhau, hai đường có cùng số cạnh nhưng chi phí chênh lệch - BFS vẫn dừng ở đường xuất hiện trước, bỏ qua đường rẻ hơn.\n",
        "DFS còn ít đảm bảo hơn: nó đi sâu theo thứ tự kê cạnh và dừng khi gặp đích đầu tiên, nên kết quả phụ thuộc vào sắp xếp kề chứ không phản ánh rẻ nhất.\n",
        "\n",
        "Ví dụ cụ thể (mẫu 6)\n",
        "Đường BFS đầu tiên: S → A → D → E → H, tổng 24.\n",
        "Đường tối ưu thật: S → A → B → E → H, tổng 21.\n",
        "Vì cả hai đều dài 4 cạnh, BFS gặp A → D trước nên chọn 24 và bỏ lỡ 21.\n",
        "\n",
        "2. Trong **Đồ thị mẫu 7**, tại sao BFS có thể tìm nhiều đường đi có độ dài bằng nhau từ S đến H? DFS có khả năng này không? Giải thích.\n",
        "\n",
        "BFS đưa tất cả đỉnh ở một tầng vào hàng đợi trước khi sang tầng kế tiếp, đồng thời có thể lưu nhiều “cha” để tái dựng mọi đường ngắn nhất.\n",
        "Nhờ đó, khi hoàn tất tầng 2 trong đồ thị 7, ta nhận được toàn bộ các đường độ dài 2 từ S đến H (S-E-H, S-A-E-H, S-D-E-H, …).\n",
        "DFS, ngược lại, khám phá một nhánh tới cùng rồi mới back-track; nó dừng ngay khi gặp H trừ khi ta sửa thuật toán để tiếp tục, do đó mặc định chỉ trả về một đường duy nhất.\n",
        "\"\"\""
      ]
    },
    {
      "cell_type": "code",
      "execution_count": null,
      "metadata": {},
      "outputs": [],
      "source": [
        "### Bài Tập Minh Họa Thủ Công\n",
        "\"\"\"\n",
        "1. Thực hiện BFS và DFS thủ công trên **Đồ thị mẫu 6** để tìm đường từ S đến H. Ghi lại trạng thái hàng đợi/ngăn xếp, tập đã thăm, và tổng trọng số.\n",
        "Đồ thị mẫu 6 (có trọng số)\n",
        "Minh họa BFS\n",
        "1.Khởi tạo: Hàng đợi = [(S, [S], 0)], Đã thăm = {S}\n",
        "2.Lấy S, thêm A, C → Hàng đợi = [(A,[S,A],2), (C,[S,C],5)], Đã thăm = {S,A,C}\n",
        "3.Lấy A, thêm B, D → Hàng đợi = [(C,[S,C],5), (B,[S,A,B],5), (D,[S,A,D],6)], Đã thăm = {S,A,C,B,D}\n",
        "4.Lấy C, thêm F → Hàng đợi = [(B,[S,A,B],5), (D,[S,A,D],6), (F,[S,C,F],14)], Đã thăm = {S,A,C,B,D,F}\n",
        "5.Lấy B, thêm E → Hàng đợi = [(D,[S,A,D],6), (F,[S,C,F],14), (E,[S,A,B,E],11)], Đã thăm = {S,A,C,B,D,F,E}\n",
        "6.Lấy D, (không thêm mới) → Hàng đợi = [(F,[S,C,F],14), (E,[S,A,B,E],11)]\n",
        "7.Lấy F, thêm G → Hàng đợi = [(E,[S,A,B,E],11), (G,[S,C,F,G],26)], Đã thăm = {S,A,C,B,D,F,E,G}\n",
        "8.Lấy E, thêm H → Hàng đợi = [(G,[S,C,F,G],26), (H,[S,A,B,E,H],21)], Đã thăm = {S,A,C,B,D,F,E,G,H}\n",
        "9.Lấy H → H là đích, trả về [S, A, B, E, H] (4 cạnh, tổng trọng số 21).\n",
        "Kết quả BFS: S → A → B → E → H (chi phí 21). Không chắc tối ưu vì BFS bỏ qua trọng số.\n",
        "\n",
        "Minh họa DFS\n",
        "1.Khởi tạo: Ngăn xếp = [(S,[S],0)], Đã thăm = {S}\n",
        "2.Lấy S, thêm A, C → Ngăn xếp = [(A,[S,A],2), (C,[S,C],5)], Đã thăm = {S,A,C}\n",
        "3.Lấy C, thêm D, F → Ngăn xếp = [(A,[S,A],2), (D,[S,C,D],12), (F,[S,C,F],14)], Đã thăm = {S,A,C,D,F}\n",
        "4.Lấy F, thêm G → Ngăn xếp = [(A,[S,A],2), (D,[S,C,D],12), (G,[S,C,F,G],26)], Đã thăm = {S,A,C,D,F,G}\n",
        "5.Lấy G, thêm H → Ngăn xếp = [(A,[S,A],2), (D,[S,C,D],12), (H,[S,C,F,G,H],41)], Đã thăm = {S,A,C,D,F,G,H}\n",
        "6.Lấy H → H là đích, trả về [S, C, F, G, H] (4 cạnh, tổng trọng số 41).\n",
        "Kết quả DFS: S → C → F → G → H (chi phí 41, dài & đắt hơn BFS). DFS dừng ở nhánh đầu tiên, không tối ưu.\n",
        "\n",
        "2. Thực hiện BFS và DFS thủ công trên **Đồ thị mẫu 7**. Ghi lại tất cả các đường đi từ S đến H mà BFS tìm được.\n",
        "Đồ thị mẫu 7 (không trọng số, mật độ cao)\n",
        "Minh họa BFS\n",
        "1.Khởi tạo: Hàng đợi = [(S,[S])], Đã thăm = {S}\n",
        "2.Lấy S, thêm A, D, E → Hàng đợi = [(A,[S,A]), (D,[S,D]), (E,[S,E])], Đã thăm = {S,A,D,E}\n",
        "3.Lấy A, thêm B → Hàng đợi = [(D,[S,D]), (E,[S,E]), (B,[S,A,B])], Đã thăm = {S,A,D,E,B}\n",
        "4.Lấy D, (không thêm mới) → Hàng đợi = [(E,[S,E]), (B,[S,A,B])]\n",
        "5.Lấy E, thêm F, H → Hàng đợi = [(B,[S,A,B]), (F,[S,E,F]), (H,[S,E,H])], Đã thăm = {S,A,D,E,B,F,H}\n",
        "6.Lấy B, thêm C → Hàng đợi = [(F,[S,E,F]), (H,[S,E,H]), (C,[S,A,B,C])], Đã thăm = {S,A,D,E,B,F,H,C}\n",
        "7.Lấy F, thêm G → Hàng đợi = [(H,[S,E,H]), (C,[S,A,B,C]), (G,[S,E,F,G])], Đã thăm = {S,A,D,E,B,F,H,C,G}\n",
        "8.Lấy H → H là đích, trả về [S, E, H] (độ dài 2).\n",
        "Kết quả BFS: S → E → H (đường ngắn nhất duy nhất).\n",
        "\n",
        "Minh họa DFS\n",
        "1.Khởi tạo: Ngăn xếp = [(S,[S])], Đã thăm = {S}\n",
        "2.Lấy S, thêm E, D, A → Ngăn xếp = [(E,[S,E]), (D,[S,D]), (A,[S,A])], Đã thăm = {S,E,D,A}\n",
        "3.Lấy A, thêm E, D, B (E,D đã thăm) → Ngăn xếp = [(E,[S,E]), (D,[S,D]), (B,[S,A,B])], Đã thăm = {S,E,D,A,B}\n",
        "4.Lấy B, thêm F, C → Ngăn xếp = [(E,[S,E]), (D,[S,D]), (F,[S,A,B,F]), (C,[S,A,B,C])], Đã thăm = {S,E,D,A,B,F,C}\n",
        "5.Lấy C, thêm G → Ngăn xếp = [(E,[S,E]), (D,[S,D]), (F,[S,A,B,F]), (G,[S,A,B,C,G])], Đã thăm = {S,E,D,A,B,F,C,G}\n",
        "6.Lấy G, thêm H → Ngăn xếp = [(E,[S,E]), (D,[S,D]), (F,[S,A,B,F]), (H,[S,A,B,C,G,H])], Đã thăm = {S,E,D,A,B,F,C,G,H}\n",
        "7.Lấy H → H là đích, trả về [S, A, B, C, G, H] (độ dài 5).\n",
        "Kết quả DFS: S → A → B → C → G → H (dài hơn BFS; DFS không bảo đảm ngắn nhất).\n",
        "\"\"\""
      ]
    },
    {
      "cell_type": "code",
      "execution_count": 1,
      "metadata": {},
      "outputs": [],
      "source": [
        "# code here"
      ]
    },
    {
      "cell_type": "code",
      "execution_count": 2,
      "metadata": {},
      "outputs": [],
      "source": [
        "# code here"
      ]
    },
    {
      "cell_type": "code",
      "execution_count": 3,
      "metadata": {},
      "outputs": [],
      "source": [
        "# code here"
      ]
    },
    {
      "cell_type": "code",
      "execution_count": 4,
      "metadata": {},
      "outputs": [],
      "source": [
        "# code here"
      ]
    },
    {
      "cell_type": "code",
      "execution_count": 5,
      "metadata": {},
      "outputs": [],
      "source": [
        "# code here"
      ]
    },
    {
      "cell_type": "markdown",
      "metadata": {},
      "source": [
        "## Hướng Dẫn Nộp Bài\n",
        "- **Về nhà**:\n",
        "  - Nộp file `.ipynb` này và báo cáo trước 23:59 ngày 6/6/2025 lên github.\n",
        "  - Báo cáo cần trình bày rõ ràng, có cấu trúc, bao gồm minh họa thủ công, kết quả mã nguồn với chú thích, và phân tích trong README."
      ]
    }
  ],
  "metadata": {
    "kernelspec": {
      "display_name": "Python 3",
      "language": "python",
      "name": "python3"
    },
    "language_info": {
      "codemirror_mode": {
        "name": "ipython",
        "version": 3
      },
      "file_extension": ".py",
      "mimetype": "text/x-python",
      "name": "python",
      "nbconvert_exporter": "python",
      "pygments_lexer": "ipython3",
      "version": "3.11.9"
    }
  },
  "nbformat": 4,
  "nbformat_minor": 4
}
